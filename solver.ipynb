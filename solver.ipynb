{
  "nbformat": 4,
  "nbformat_minor": 0,
  "metadata": {
    "colab": {
      "provenance": [],
      "toc_visible": true,
      "authorship_tag": "ABX9TyMnv7R9xezlssbhf5t5thqA",
      "include_colab_link": true
    },
    "kernelspec": {
      "name": "python3",
      "display_name": "Python 3"
    },
    "language_info": {
      "name": "python"
    }
  },
  "cells": [
    {
      "cell_type": "markdown",
      "metadata": {
        "id": "view-in-github",
        "colab_type": "text"
      },
      "source": [
        "<a href=\"https://colab.research.google.com/github/D3bug1t/Sudoku-Solver/blob/main/solver.ipynb\" target=\"_parent\"><img src=\"https://colab.research.google.com/assets/colab-badge.svg\" alt=\"Open In Colab\"/></a>"
      ]
    },
    {
      "cell_type": "code",
      "execution_count": null,
      "metadata": {
        "id": "ULwiPZuM6tKM"
      },
      "outputs": [],
      "source": [
        "def empty_pos(board):\n",
        "    for i in range(len(board)):\n",
        "        for j in range(len(board[0])):\n",
        "            if(board[i][j]==0):\n",
        "                return (i,j)\n",
        "    return None"
      ]
    },
    {
      "cell_type": "code",
      "source": [
        "def valid_board(board,num,pos):\n",
        "    for i in range(len(board[0])):\n",
        "        if(board[pos[0]][i]==num and pos[0]!=i):\n",
        "            return False\n",
        "    for j in range(len(board[0])):\n",
        "        if(board[pos[0]][j]==num and pos[0]!=j):\n",
        "            return False\n",
        "    [part_x,part_y]=pos//3;\n",
        "    for i in range(part_x*3,part_x*3+3):\n",
        "        for j in range(part_y*3,part_y*3+3):\n",
        "            if(board[i][j]==num and pos!=(i,j)):\n",
        "                return False\n",
        "    return True"
      ],
      "metadata": {
        "id": "4li8fPKo7dg0"
      },
      "execution_count": null,
      "outputs": []
    },
    {
      "cell_type": "code",
      "source": [
        "def solve(board):\n",
        "    find=empty_pos(board)\n",
        "    if find==None:\n",
        "        return True\n",
        "    else:\n",
        "        for i in range(1,10):\n",
        "            if(valid_board(board,i,find)):\n",
        "                board[find[0]][find[1]]==i\n",
        "    if(solve(board)):\n",
        "        return True\n",
        "    else:\n",
        "        board[find[0]][find[1]]=0\n",
        "        return False"
      ],
      "metadata": {
        "id": "I8w_mpUD7jhE"
      },
      "execution_count": null,
      "outputs": []
    },
    {
      "cell_type": "code",
      "source": [
        "def disp(board):\n",
        "    if solve(board):\n",
        "        return board\n",
        "    else:\n",
        "        print(\"No Solution\")\n",
        "        return -1"
      ],
      "metadata": {
        "id": "GiezZIVZ7kH6"
      },
      "execution_count": null,
      "outputs": []
    }
  ]
}